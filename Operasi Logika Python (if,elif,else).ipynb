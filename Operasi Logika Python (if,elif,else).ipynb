{
  "nbformat": 4,
  "nbformat_minor": 0,
  "metadata": {
    "colab": {
      "provenance": [],
      "authorship_tag": "ABX9TyMXDv+33eu6nlUQBgD7eb9o",
      "include_colab_link": true
    },
    "kernelspec": {
      "name": "python3",
      "display_name": "Python 3"
    },
    "language_info": {
      "name": "python"
    }
  },
  "cells": [
    {
      "cell_type": "markdown",
      "metadata": {
        "id": "view-in-github",
        "colab_type": "text"
      },
      "source": [
        "<a href=\"https://colab.research.google.com/github/zaaki434/Tugas/blob/Tugas-Sekolah-SMKM-3/Operasi%20Logika%20Python%20(if%2Celif%2Celse).ipynb\" target=\"_parent\"><img src=\"https://colab.research.google.com/assets/colab-badge.svg\" alt=\"Open In Colab\"/></a>"
      ]
    },
    {
      "cell_type": "markdown",
      "source": [
        "#Operasi Logika if 1 kondisi"
      ],
      "metadata": {
        "id": "mLVxbaTelsUX"
      }
    },
    {
      "cell_type": "code",
      "execution_count": null,
      "metadata": {
        "colab": {
          "base_uri": "https://localhost:8080/"
        },
        "id": "t_3g-vYnlrOC",
        "outputId": "53ca5a83-6388-4eb8-a1f2-5fb9816f9aa7"
      },
      "outputs": [
        {
          "output_type": "stream",
          "name": "stdout",
          "text": [
            "angka adalah 10\n"
          ]
        }
      ],
      "source": [
        "angka = 10\n",
        "if angka == 10:\n",
        "  print(\"angka adalah 10\")"
      ]
    },
    {
      "cell_type": "markdown",
      "source": [
        "#Operasi logika if 2 kondisi menggunakan else"
      ],
      "metadata": {
        "id": "wAuAsMUimh9H"
      }
    },
    {
      "cell_type": "code",
      "source": [
        "angka = 20\n",
        "if angka == 10:\n",
        "  print(\"angka adalah 10\")\n",
        "else:\n",
        "  print(\"angka bukan 10\")\n"
      ],
      "metadata": {
        "colab": {
          "base_uri": "https://localhost:8080/"
        },
        "id": "uNpf7W-cmlbW",
        "outputId": "ac5375b2-9ac8-4a94-cc54-b19be466c84e"
      },
      "execution_count": null,
      "outputs": [
        {
          "output_type": "stream",
          "name": "stdout",
          "text": [
            "angka bukan 10\n"
          ]
        }
      ]
    },
    {
      "cell_type": "markdown",
      "source": [
        "#Operasi logika if lebih dari 2 kondisi menggunakan elif else"
      ],
      "metadata": {
        "id": "tCPhmmg-mmJ5"
      }
    },
    {
      "cell_type": "code",
      "source": [
        "angka = 200\n",
        "if angka == 10:\n",
        "  print(\"angka adalah 10\")\n",
        "\n",
        "elif angka < 10:\n",
        "  print(\"angka urang dari 10\")\n",
        "\n",
        "else:\n",
        "  print(\"angka lebih dari 10\")"
      ],
      "metadata": {
        "colab": {
          "base_uri": "https://localhost:8080/"
        },
        "id": "DRLlVxvKmpxc",
        "outputId": "0bba3354-84d7-47b9-a827-5ecae9b5b2b4"
      },
      "execution_count": null,
      "outputs": [
        {
          "output_type": "stream",
          "name": "stdout",
          "text": [
            "angka lebih dari 10\n"
          ]
        }
      ]
    }
  ]
}