{
  "nbformat": 4,
  "nbformat_minor": 0,
  "metadata": {
    "colab": {
      "provenance": [],
      "authorship_tag": "ABX9TyPHqG7zajxXja3KD2mp3co3",
      "include_colab_link": true
    },
    "kernelspec": {
      "name": "python3",
      "display_name": "Python 3"
    },
    "language_info": {
      "name": "python"
    }
  },
  "cells": [
    {
      "cell_type": "markdown",
      "metadata": {
        "id": "view-in-github",
        "colab_type": "text"
      },
      "source": [
        "<a href=\"https://colab.research.google.com/github/zaaki434/PPLG-Kev/blob/main/Program_Decision_(%2B%2C_%2C0).ipynb\" target=\"_parent\"><img src=\"https://colab.research.google.com/assets/colab-badge.svg\" alt=\"Open In Colab\"/></a>"
      ]
    },
    {
      "cell_type": "markdown",
      "source": [
        "#Buatlah sebuah program untuk menentukan bilangan positif,negatif dan bilangan 0"
      ],
      "metadata": {
        "id": "pQ-etptIIwSn"
      }
    },
    {
      "cell_type": "code",
      "execution_count": 18,
      "metadata": {
        "colab": {
          "base_uri": "https://localhost:8080/"
        },
        "id": "HoXHfRyUFcz6",
        "outputId": "e4045ee8-f188-4866-f4b5-d7aafe34f7c8"
      },
      "outputs": [
        {
          "output_type": "stream",
          "name": "stdout",
          "text": [
            "Tulis Sebuah Angka: 1\n",
            "Angka Positif\n"
          ]
        }
      ],
      "source": [
        "#Menginput Angka\n",
        "angka = float(input(\"Tulis Sebuah Angka: \"))\n",
        "\n",
        "#jika angka lebi dari 0 maka akan print positif\n",
        "if angka > 0:\n",
        "  print(\"Angka Positif\")\n",
        "\n",
        "#jika value 0 maka akan print 0\n",
        "elif angka == 0:\n",
        "  print(\"Angka Nol\")\n",
        "\n",
        "#jika value kurang dari 0 maka akan print negatif\n",
        "else:\n",
        "  print(\"Angka Negatif\")"
      ]
    }
  ]
}