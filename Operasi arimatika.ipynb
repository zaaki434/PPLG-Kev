{
  "cells": [
    {
      "cell_type": "markdown",
      "metadata": {
        "id": "view-in-github",
        "colab_type": "text"
      },
      "source": [
        "<a href=\"https://colab.research.google.com/github/zaaki434/Tugas/blob/main/Operasi%20arimatika.ipynb\" target=\"_parent\"><img src=\"https://colab.research.google.com/assets/colab-badge.svg\" alt=\"Open In Colab\"/></a>"
      ]
    },
    {
      "cell_type": "markdown",
      "source": [
        "operasi arimatika tambah"
      ],
      "metadata": {
        "id": "27aNy7xCcWk3"
      }
    },
    {
      "cell_type": "code",
      "source": [
        "a=3\n",
        "b=10\n",
        "c=a+b\n",
        "print(c)"
      ],
      "metadata": {
        "colab": {
          "base_uri": "https://localhost:8080/"
        },
        "id": "NBW20kS4RaS-",
        "outputId": "d7358511-347d-47e5-bb17-4aa783b3f236"
      },
      "execution_count": 43,
      "outputs": [
        {
          "output_type": "stream",
          "name": "stdout",
          "text": [
            "13\n"
          ]
        }
      ]
    },
    {
      "cell_type": "markdown",
      "source": [
        "Operasi arimatika pengurangan"
      ],
      "metadata": {
        "id": "vJFiy5FUci9C"
      }
    },
    {
      "cell_type": "code",
      "source": [
        "a=5\n",
        "b=2\n",
        "c=a-b\n",
        "print(c)"
      ],
      "metadata": {
        "colab": {
          "base_uri": "https://localhost:8080/"
        },
        "id": "ynFbUQavcl_l",
        "outputId": "2ef2f0c1-de80-4e46-877c-c71b65afc33b"
      },
      "execution_count": 44,
      "outputs": [
        {
          "output_type": "stream",
          "name": "stdout",
          "text": [
            "3\n"
          ]
        }
      ]
    },
    {
      "cell_type": "markdown",
      "source": [
        "Operasi arimatika perkalian"
      ],
      "metadata": {
        "id": "7fzE2qHTcvW9"
      }
    },
    {
      "cell_type": "code",
      "source": [
        "a=8\n",
        "b=5\n",
        "c=a*b\n",
        "print(c)"
      ],
      "metadata": {
        "colab": {
          "base_uri": "https://localhost:8080/"
        },
        "id": "CIjlUIPucyAh",
        "outputId": "6015de9a-3c60-4fb3-b81a-7165bdd47f6c"
      },
      "execution_count": 45,
      "outputs": [
        {
          "output_type": "stream",
          "name": "stdout",
          "text": [
            "40\n"
          ]
        }
      ]
    },
    {
      "cell_type": "markdown",
      "source": [
        "Operasi arimatika pembagian"
      ],
      "metadata": {
        "id": "rYRvKhdOc_UB"
      }
    },
    {
      "cell_type": "code",
      "source": [
        "a=10\n",
        "b=5\n",
        "c=a/b\n",
        "print(c)"
      ],
      "metadata": {
        "colab": {
          "base_uri": "https://localhost:8080/"
        },
        "id": "Tc6EFP2NdB0I",
        "outputId": "850609cf-1a48-47d5-90f0-bb3634debcc4"
      },
      "execution_count": 46,
      "outputs": [
        {
          "output_type": "stream",
          "name": "stdout",
          "text": [
            "2.0\n"
          ]
        }
      ]
    },
    {
      "cell_type": "markdown",
      "source": [
        "Operasi arimatika persen"
      ],
      "metadata": {
        "id": "9WcUy5QwdJG9"
      }
    },
    {
      "cell_type": "code",
      "source": [
        "a=10\n",
        "b=3\n",
        "c=a%b\n",
        "print(c)"
      ],
      "metadata": {
        "colab": {
          "base_uri": "https://localhost:8080/"
        },
        "id": "LgkiW3uKdLF2",
        "outputId": "f1c6723a-3cc0-4bd9-80c0-84b32e1dcaa1"
      },
      "execution_count": 48,
      "outputs": [
        {
          "output_type": "stream",
          "name": "stdout",
          "text": [
            "1\n"
          ]
        }
      ]
    },
    {
      "cell_type": "markdown",
      "source": [
        "Operasi arimatika Hasil"
      ],
      "metadata": {
        "id": "HiaQ1yWHe10X"
      }
    },
    {
      "cell_type": "code",
      "source": [
        "a=10\n",
        "print(a)"
      ],
      "metadata": {
        "colab": {
          "base_uri": "https://localhost:8080/"
        },
        "id": "2d30vsfHe37P",
        "outputId": "b1f2261f-b291-4f44-c3a2-3f000933f1d2"
      },
      "execution_count": 56,
      "outputs": [
        {
          "output_type": "stream",
          "name": "stdout",
          "text": [
            "10\n"
          ]
        }
      ]
    },
    {
      "cell_type": "markdown",
      "source": [
        "Operasi arimatika akar"
      ],
      "metadata": {
        "id": "mr3PTvGcdVft"
      }
    },
    {
      "cell_type": "code",
      "source": [
        "a=30\n",
        "b=5\n",
        "c=a//b\n",
        "print(c)"
      ],
      "metadata": {
        "id": "VlNQYBBOdXjC"
      },
      "execution_count": null,
      "outputs": []
    },
    {
      "cell_type": "markdown",
      "source": [
        "Operasi arimatika pangkat"
      ],
      "metadata": {
        "id": "t0Jg4xUddnMi"
      }
    },
    {
      "cell_type": "code",
      "source": [
        "a=10\n",
        "b=5\n",
        "c=a**b\n",
        "print(c)"
      ],
      "metadata": {
        "colab": {
          "base_uri": "https://localhost:8080/"
        },
        "id": "vpe1f6Gidpsf",
        "outputId": "2414edfd-742b-4efb-e066-141aaf5f9388"
      },
      "execution_count": 49,
      "outputs": [
        {
          "output_type": "stream",
          "name": "stdout",
          "text": [
            "100000\n"
          ]
        }
      ]
    },
    {
      "cell_type": "markdown",
      "source": [
        "Operasi arimatika (+=)"
      ],
      "metadata": {
        "id": "YZiiOxLMd1lA"
      }
    },
    {
      "cell_type": "code",
      "source": [
        "a+=2\n",
        "print(a)"
      ],
      "metadata": {
        "colab": {
          "base_uri": "https://localhost:8080/"
        },
        "id": "Pv0orqZwd8p5",
        "outputId": "0193267e-2c7d-4cd4-af1f-9a8d65932d39"
      },
      "execution_count": 51,
      "outputs": [
        {
          "output_type": "stream",
          "name": "stdout",
          "text": [
            "14\n"
          ]
        }
      ]
    },
    {
      "cell_type": "markdown",
      "source": [
        "Operasi arimatika (-=)"
      ],
      "metadata": {
        "id": "sRVwJYGNeIUG"
      }
    },
    {
      "cell_type": "code",
      "source": [
        "b-=2\n",
        "print (b)"
      ],
      "metadata": {
        "colab": {
          "base_uri": "https://localhost:8080/"
        },
        "id": "gplleyLEeK0R",
        "outputId": "7c1d08a0-a2e7-43a9-b5bb-0971a69ce2b1"
      },
      "execution_count": 52,
      "outputs": [
        {
          "output_type": "stream",
          "name": "stdout",
          "text": [
            "3\n"
          ]
        }
      ]
    },
    {
      "cell_type": "markdown",
      "source": [
        "Operasi arimatika (*=)"
      ],
      "metadata": {
        "id": "lVUhm8XueP5t"
      }
    },
    {
      "cell_type": "code",
      "source": [
        "b*=2\n",
        "print (b)"
      ],
      "metadata": {
        "colab": {
          "base_uri": "https://localhost:8080/"
        },
        "id": "P-o7fbwleVQT",
        "outputId": "3f2a5501-06bc-48cd-feb1-f5667e6859cc"
      },
      "execution_count": 53,
      "outputs": [
        {
          "output_type": "stream",
          "name": "stdout",
          "text": [
            "6\n"
          ]
        }
      ]
    },
    {
      "cell_type": "markdown",
      "source": [
        "Operasi arimatika (/=)"
      ],
      "metadata": {
        "id": "dXc9KqtaeadH"
      }
    },
    {
      "cell_type": "code",
      "source": [
        "c/=2\n",
        "print(c)"
      ],
      "metadata": {
        "colab": {
          "base_uri": "https://localhost:8080/"
        },
        "id": "ekGgsgp2egWC",
        "outputId": "528308a3-35bc-4e86-c8d3-a78b2e1cd323"
      },
      "execution_count": 54,
      "outputs": [
        {
          "output_type": "stream",
          "name": "stdout",
          "text": [
            "50000.0\n"
          ]
        }
      ]
    },
    {
      "cell_type": "markdown",
      "source": [
        "Operasi arimatika persamaan"
      ],
      "metadata": {
        "id": "Uskg16I_elKW"
      }
    },
    {
      "cell_type": "code",
      "source": [
        "a=10\n",
        "b=10\n",
        "c=a==b #a dengan b memiliki value yang sama\n",
        "print(c)"
      ],
      "metadata": {
        "colab": {
          "base_uri": "https://localhost:8080/"
        },
        "id": "zbzTCivceoxm",
        "outputId": "90b47343-8f28-4e2f-ed70-9cef28187f8f"
      },
      "execution_count": 55,
      "outputs": [
        {
          "output_type": "stream",
          "name": "stdout",
          "text": [
            "True\n"
          ]
        }
      ]
    },
    {
      "cell_type": "markdown",
      "source": [
        "Operasi arimatika persamaan memaksa"
      ],
      "metadata": {
        "id": "L-MUrb10evPp"
      }
    },
    {
      "cell_type": "code",
      "source": [
        "a=10\n",
        "b=11\n",
        "c=a!=b\n",
        "print(c) #a dengan b berbeda tetapi hasilnya akan di paksa untuk true"
      ],
      "metadata": {
        "colab": {
          "base_uri": "https://localhost:8080/"
        },
        "id": "XptXpofVe_kH",
        "outputId": "0ec24a55-edb7-49fd-8255-740d81c66a8a"
      },
      "execution_count": 60,
      "outputs": [
        {
          "output_type": "stream",
          "name": "stdout",
          "text": [
            "True\n"
          ]
        }
      ]
    },
    {
      "cell_type": "markdown",
      "source": [
        "Operasi arimatika lebih dari"
      ],
      "metadata": {
        "id": "OCgpyG5NfXfq"
      }
    },
    {
      "cell_type": "code",
      "source": [
        "a=12\n",
        "b=10\n",
        "c=a>b\n",
        "print(c) #a lebih besar dari b = true"
      ],
      "metadata": {
        "colab": {
          "base_uri": "https://localhost:8080/"
        },
        "id": "XFuBsY9jfZsK",
        "outputId": "90392459-3dbb-45dd-bb80-63bacde37b15"
      },
      "execution_count": 61,
      "outputs": [
        {
          "output_type": "stream",
          "name": "stdout",
          "text": [
            "True\n"
          ]
        }
      ]
    },
    {
      "cell_type": "markdown",
      "source": [
        "Operasi arimatika kurang dari"
      ],
      "metadata": {
        "id": "v1lM35iqfhhJ"
      }
    },
    {
      "cell_type": "code",
      "source": [
        "a=12\n",
        "b=10\n",
        "c=a<b\n",
        "print(c) #a lebih kecil dari b = false"
      ],
      "metadata": {
        "colab": {
          "base_uri": "https://localhost:8080/"
        },
        "id": "L0CCd-kcfk7D",
        "outputId": "08b3f0d0-7852-46b0-fdc9-e2df4f417193"
      },
      "execution_count": 63,
      "outputs": [
        {
          "output_type": "stream",
          "name": "stdout",
          "text": [
            "False\n"
          ]
        }
      ]
    },
    {
      "cell_type": "markdown",
      "source": [
        "Operasi arimatika >="
      ],
      "metadata": {
        "id": "DxeUYM9VfxiR"
      }
    },
    {
      "cell_type": "code",
      "source": [
        "a=10\n",
        "b=11\n",
        "c=a>=b\n",
        "print(c)"
      ],
      "metadata": {
        "colab": {
          "base_uri": "https://localhost:8080/"
        },
        "id": "CZ6apJCwf1RA",
        "outputId": "b4bced7e-5734-445c-d2a8-a06dc8e4794a"
      },
      "execution_count": 66,
      "outputs": [
        {
          "output_type": "stream",
          "name": "stdout",
          "text": [
            "False\n"
          ]
        }
      ]
    },
    {
      "cell_type": "markdown",
      "source": [
        "Operasi arimatika <="
      ],
      "metadata": {
        "id": "i7pSEy6QgDeW"
      }
    },
    {
      "cell_type": "code",
      "source": [
        "a=10\n",
        "b=11\n",
        "c=a<=b\n",
        "print(c)"
      ],
      "metadata": {
        "colab": {
          "base_uri": "https://localhost:8080/"
        },
        "id": "oINFVII3gGBd",
        "outputId": "bb429144-a669-43eb-e0d7-fe3864f42996"
      },
      "execution_count": 67,
      "outputs": [
        {
          "output_type": "stream",
          "name": "stdout",
          "text": [
            "True\n"
          ]
        }
      ]
    },
    {
      "cell_type": "markdown",
      "source": [
        "Operasi arimatika and"
      ],
      "metadata": {
        "id": "zcHB7vK4gK8B"
      }
    },
    {
      "cell_type": "code",
      "source": [
        "a<5 and b>10"
      ],
      "metadata": {
        "colab": {
          "base_uri": "https://localhost:8080/"
        },
        "id": "GK8P1mFrgPND",
        "outputId": "ea9ad755-f08d-4d47-eebe-b5e5d9dc9e2d"
      },
      "execution_count": 68,
      "outputs": [
        {
          "output_type": "execute_result",
          "data": {
            "text/plain": [
              "False"
            ]
          },
          "metadata": {},
          "execution_count": 68
        }
      ]
    },
    {
      "cell_type": "markdown",
      "source": [
        "Operasi arimatika or"
      ],
      "metadata": {
        "id": "plhW9oQbgU5S"
      }
    },
    {
      "cell_type": "code",
      "source": [
        "a<5 or b>10"
      ],
      "metadata": {
        "colab": {
          "base_uri": "https://localhost:8080/"
        },
        "id": "J7fKBuRogYd9",
        "outputId": "4f9cc5b4-a58a-4cd7-ad20-b5633d86f642"
      },
      "execution_count": 69,
      "outputs": [
        {
          "output_type": "execute_result",
          "data": {
            "text/plain": [
              "True"
            ]
          },
          "metadata": {},
          "execution_count": 69
        }
      ]
    },
    {
      "cell_type": "markdown",
      "source": [
        "Operasi arimatika not"
      ],
      "metadata": {
        "id": "wUIBZg7ygcfI"
      }
    },
    {
      "cell_type": "code",
      "source": [
        "not(a<5)"
      ],
      "metadata": {
        "colab": {
          "base_uri": "https://localhost:8080/"
        },
        "id": "ZiJ0rqfRgeLj",
        "outputId": "ff9d876f-c7a8-4e54-d88b-3b4453cc8718"
      },
      "execution_count": 70,
      "outputs": [
        {
          "output_type": "execute_result",
          "data": {
            "text/plain": [
              "True"
            ]
          },
          "metadata": {},
          "execution_count": 70
        }
      ]
    }
  ],
  "metadata": {
    "colab": {
      "name": "Welcome To Colaboratory",
      "provenance": [],
      "include_colab_link": true
    },
    "kernelspec": {
      "display_name": "Python 3",
      "name": "python3"
    }
  },
  "nbformat": 4,
  "nbformat_minor": 0
}