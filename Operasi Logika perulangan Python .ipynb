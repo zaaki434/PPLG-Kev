{
  "cells": [
    {
      "cell_type": "markdown",
      "metadata": {
        "id": "view-in-github",
        "colab_type": "text"
      },
      "source": [
        "<a href=\"https://colab.research.google.com/github/zaaki434/Tugas/blob/Tugas-Sekolah-SMKM-3/Operasi%20Logika%20perulangan%20Python%20.ipynb\" target=\"_parent\"><img src=\"https://colab.research.google.com/assets/colab-badge.svg\" alt=\"Open In Colab\"/></a>"
      ]
    },
    {
      "cell_type": "markdown",
      "source": [
        "#Operasi Logika Perulangan/Looping mennggunaka Python\n",
        "\n",
        "Metode lain yang berguna dalam bahasa pemrograman Python adalah iterator. Hal ini sangat membantu jika Anda ingin melakukan sesuatu beberapa kali.\n",
        "\n",
        "Dapat dibayangkan jika kita ingin menulis kata \"Hai\" sebanyak seribu kali, tentu kode program kita akan sangat sulit untuk di baca, selain itu, kemungkinan terjadinya kesalahan sangat lah besar. Oleh karena itu, kita dapat menggunakan suatu cara yang disebut loop atau iterator. Ada dua cara untuk menjalankan perintah tersebut, yaitu dengan for atau while loop.\n",
        "Pada contoh kali ini, kita akan menggunakan metode range. Metode ini yang menentukan rentang loop seberapa banyak perintah harus di ulang. Secara default, titik awalnya adalah 0.\n",
        "\n",
        "disini\n",
        "i & j (sebagai variabel)"
      ],
      "metadata": {
        "id": "qg8mQ8VwJmWP"
      }
    },
    {
      "cell_type": "markdown",
      "source": [
        "#operasi perulangan menggunakan \"for\""
      ],
      "metadata": {
        "id": "rpooGy67Wgt8"
      }
    },
    {
      "cell_type": "code",
      "source": [
        "for i in range(2):\n",
        "  print (\"Zaki\")\n",
        "\n",
        "for i in range(1,3): # memunculkan perulangan dari 1 sampai kurang dari 3\n",
        "  print (\"Text\")\n",
        "\n",
        "for i in range(5):\n",
        "  print (\"Failed\")\n",
        "else: #akan mengeprint selesai jika perulangan sudah memenuhi syarat\n",
        "  print (\"Complete\")\n",
        "\n",
        "for i in range(2):\n",
        "  for j in range(2):\n",
        "    print (\"loop di dalam\")\n",
        "  print (\"loop diluar\")"
      ],
      "metadata": {
        "colab": {
          "base_uri": "https://localhost:8080/"
        },
        "id": "vcYV6jnlJuDd",
        "outputId": "b57f0ffc-7ca1-4334-a13c-d43de16641c8"
      },
      "execution_count": null,
      "outputs": [
        {
          "output_type": "stream",
          "name": "stdout",
          "text": [
            "Zaki\n",
            "Zaki\n",
            "Text\n",
            "Text\n",
            "Failed\n",
            "Failed\n",
            "Failed\n",
            "Failed\n",
            "Failed\n",
            "Complete\n",
            "loop di dalam\n",
            "loop di dalam\n",
            "loop diluar\n",
            "loop di dalam\n",
            "loop di dalam\n",
            "loop diluar\n"
          ]
        }
      ]
    },
    {
      "cell_type": "markdown",
      "source": [
        "Looping/Perulangan menggunakan \"While\""
      ],
      "metadata": {
        "id": "X0ZAhEBRJ-DS"
      }
    },
    {
      "cell_type": "code",
      "source": [
        "i = 5\n",
        "while i <10:\n",
        "  print(\"angka\", i)\n",
        "  i += 1"
      ],
      "metadata": {
        "colab": {
          "base_uri": "https://localhost:8080/"
        },
        "id": "9JReMwKDK2G0",
        "outputId": "99bd6ebd-d386-43a7-84c6-71dc3db07c54"
      },
      "execution_count": null,
      "outputs": [
        {
          "output_type": "stream",
          "name": "stdout",
          "text": [
            "angka 5\n",
            "angka 6\n",
            "angka 7\n",
            "angka 8\n",
            "angka 9\n"
          ]
        }
      ]
    }
  ],
  "metadata": {
    "colab": {
      "name": "Selamat Datang di Colaboratory",
      "toc_visible": true,
      "provenance": [],
      "include_colab_link": true
    },
    "kernelspec": {
      "display_name": "Python 3",
      "name": "python3"
    }
  },
  "nbformat": 4,
  "nbformat_minor": 0
}