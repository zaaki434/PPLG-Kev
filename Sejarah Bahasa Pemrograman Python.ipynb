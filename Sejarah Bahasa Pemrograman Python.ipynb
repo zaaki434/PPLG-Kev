{
  "nbformat": 4,
  "nbformat_minor": 0,
  "metadata": {
    "colab": {
      "provenance": [],
      "authorship_tag": "ABX9TyNs7M4q81rHD177NO3Lj1fT",
      "include_colab_link": true
    },
    "kernelspec": {
      "name": "python3",
      "display_name": "Python 3"
    },
    "language_info": {
      "name": "python"
    }
  },
  "cells": [
    {
      "cell_type": "markdown",
      "metadata": {
        "id": "view-in-github",
        "colab_type": "text"
      },
      "source": [
        "<a href=\"https://colab.research.google.com/github/zaaki434/Tugas/blob/Tugas-Sekolah-SMKM-3/Sejarah%20Bahasa%20Pemrograman%20Python.ipynb\" target=\"_parent\"><img src=\"https://colab.research.google.com/assets/colab-badge.svg\" alt=\"Open In Colab\"/></a>"
      ]
    },
    {
      "cell_type": "markdown",
      "source": [
        "#Sejarah bahasa pemrograman Python\n",
        "Python merupakan bahasa pemrograman tingkat tinggi yang dikenal sebagai bahasa pemrograman interpreter. Python dikenalkan oleh Guido Van Rossum pada tahun 1989.\n",
        "\n",
        "Pada akhir 1980-an, Van Rossum mulai mengembangkan skrip sampai akhirnya mengenalkan versi pertama Python pada tahun 1991, kemudian dikembangkan oleh Python Software Foundation.\n",
        "\n",
        "Sejak awal rilis versi pertamanya, yaitu mulai dari versi Python 1.0 evolusi Python sudah mengalami perubahan versi hingga tiga kali (Python 3.7) sampai tahun 2020,\n",
        "\n",
        "Python dikenal sebagai bahasa pemrograman yang mudah dibaca dan dipahami (readability), hal tersebut bahkan bisa dilihat mulai dari versi pertamanya dirilis. Pada versi pertamanya, Python menggunakan lebih sedikit kode untuk mengkespresikan konsep dan hadir dengan filosofi desain yang bagus.\n",
        "\n",
        "\n",
        "#cara penulisan syntaks Python\n",
        "Terdapat beberapa perbedaan penulisan sintaks antara Python dengan bahasa pemrograman lain yang dapat menggambarkan secara singkat kemudahan dalam menggunakan Python dibandingkan dengan bahasa pemrograman lain. Jika pada bahasa pemrograman lain menggunakan sintaks begin-end atau menggunakan kurung kurawal ({}), Python memilih untuk menggunakan indentasi dalam mengelompokkan blok kode. Python juga menghilangkan penggunaan semicolon (;) yang biasa digunakan diakhir sintaks tertentu pada bahasa pemrograman lain.\n",
        "\n",
        "Perbedaan lain terdapat pada penentuan tipe data pada variabel, Python mengadopsi dynamic typing yang mana programmer tidak perlu untuk mendeklarasikan tipe data disetiap variabel dan fungsi yang dibuat. Tipe data variabel akan menyesuaikan secara otomatis pada saat variabel tersebut dieksekusi. Dynamic typing juga memungkinkan tipe data berubah dalam proses eksekusi program. Perbedaan-perbedaan tersebut juga menjadi ciri khusus yang melekat pada Python.\n",
        "\n"
      ],
      "metadata": {
        "id": "I1l7UOwdR5kT"
      }
    }
  ]
}